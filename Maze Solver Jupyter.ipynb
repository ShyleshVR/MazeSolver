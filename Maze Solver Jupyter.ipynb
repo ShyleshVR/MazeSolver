{
 "cells": [
  {
   "cell_type": "code",
   "execution_count": 309,
   "metadata": {},
   "outputs": [],
   "source": [
    "import time\n",
    "import os\n",
    "\n",
    "maze = [\n",
    " [0, 0, 0, 0, 1, 0, 0, 0, 0, 0],\n",
    " [1, 1, 1, 0, 1, 1, 0, 1, 1, 0],\n",
    " [0, 0, 1, 0, 0, 0, 0, 1, 0, 1],\n",
    " [1, 0, 1, 1, 1, 1, 0, 1, 0, 0],\n",
    " [1, 0, 0, 0, 0, 0, 0, 0, 1, 1],\n",
    " [1, 1, 0, 1, 1, 1, 1, 0, 1, 0],\n",
    " [0, 0, 0, 0, 0, 0, 1, 0, 0, 0],\n",
    " [1, 1, 1, 1, 1, 1, 1, 1, 1, 0],\n",
    " [1, 0, 0, 0, 0, 0, 0, 0, 0, 0],\n",
    " [1, 1, 1, 1, 1, 1, 1, 0, 1, 0]\n",
    "]\n",
    "\n",
    "\n",
    "start = (0, 0)\n",
    "goal = (9, 9)\n",
    "\n",
    "\n",
    "def is_valid_move(maze, visited, x, y):\n",
    "    rows, cols = len(maze), len(maze[0])\n",
    "    return 0 <= x < rows and 0 <= y < cols and maze[x][y] == 0 and (x, y) not in visited\n",
    "\n",
    "def get_neighbors(x, y):\n",
    "    return [(x - 1, y), (x + 1, y), (x, y - 1), (x, y + 1)]"
   ]
  },
  {
   "cell_type": "code",
   "execution_count": 310,
   "metadata": {},
   "outputs": [],
   "source": [
    "from IPython.display import clear_output\n",
    "def print_maze(maze, path):\n",
    "    clear_output(wait=True)\n",
    "\n",
    "    maze_copy = [row[:] for row in maze]\n",
    "\n",
    " \n",
    "    for x, y in path:\n",
    "        maze_copy[x][y] = '🟩'\n",
    "    sx, sy = start\n",
    "    gx, gy = goal\n",
    "    maze_copy[sx][sy] = 'S'\n",
    "    maze_copy[gx][gy] = 'G'\n",
    "\n",
    "    print(\"🟨\" * (2 * len(maze[0])-8))\n",
    "    for row in maze_copy:\n",
    "        print(\"🟨\", end=\"\")\n",
    "        for cell in row:\n",
    "            if cell == 1:\n",
    "                print(\"🟨\", end=\"\")\n",
    "            elif cell == '🟩':\n",
    "                print(\"🟩\", end=\"\")\n",
    "            elif cell == 'S':\n",
    "                print(\"🟥\", end=\"\")\n",
    "            elif cell == 'G':\n",
    "                print(\"🟥\", end=\"\")\n",
    "            else:\n",
    "                print(\"🟦\", end=\"\")\n",
    "        print(\"🟨\")\n",
    "    print(\"🟨\" * (2 * len(maze[0])-8))\n",
    "    \n",
    "    time.sleep(0.3)"
   ]
  },
  {
   "cell_type": "code",
   "execution_count": 311,
   "metadata": {},
   "outputs": [],
   "source": [
    "def dfs(maze, start, goal):\n",
    "    stack = [(start, [start])]\n",
    "    visited = set()\n",
    "    per_path = []\n",
    "    \n",
    "    while stack:\n",
    "        (x, y), path = stack.pop()\n",
    "        if (x, y) == goal:\n",
    "            per_path.append((x,y))\n",
    "            print_maze(maze, per_path)\n",
    "            return path\n",
    "        \n",
    "        visited.add((x, y))\n",
    "        per_path.append((x,y))\n",
    "        print_maze(maze, per_path)\n",
    "        \n",
    "        for nx, ny in get_neighbors(x, y):\n",
    "            if is_valid_move(maze, visited, nx, ny):\n",
    "                stack.append(((nx, ny), path + [(nx, ny)]))\n",
    "    \n",
    "    return None"
   ]
  },
  {
   "cell_type": "code",
   "execution_count": 312,
   "metadata": {},
   "outputs": [],
   "source": [
    "from collections import deque\n",
    "\n",
    "def bfs(maze, start, goal):\n",
    "    queue = deque([(start, [start])])\n",
    "    visited = set()\n",
    "    per_path = []\n",
    "    \n",
    "    while queue:\n",
    "        (x, y), path = queue.popleft()\n",
    "        if (x, y) == goal:\n",
    "            per_path.append((x,y))\n",
    "            print_maze(maze, per_path)\n",
    "            return path\n",
    "        \n",
    "        visited.add((x, y))\n",
    "        per_path.append((x,y))\n",
    "        print_maze(maze, per_path)  \n",
    "        for nx, ny in get_neighbors(x, y):\n",
    "            if is_valid_move(maze, visited, nx, ny):\n",
    "                queue.append(((nx, ny), path + [(nx, ny)]))\n",
    "    \n",
    "    return None"
   ]
  },
  {
   "cell_type": "code",
   "execution_count": 313,
   "metadata": {},
   "outputs": [],
   "source": [
    "import heapq\n",
    "\n",
    "def dijkstra(maze, start, goal):\n",
    "    pq = [(0, start, [start])]  \n",
    "    visited = set()\n",
    "    per_path = []\n",
    "    \n",
    "    while pq:\n",
    "        cost, (x, y), path = heapq.heappop(pq)\n",
    "        if (x, y) == goal:\n",
    "            per_path.append((x,y))\n",
    "            print_maze(maze, per_path)\n",
    "            return path\n",
    "        \n",
    "        visited.add((x, y))\n",
    "        per_path.append((x,y))\n",
    "        print_maze(maze, per_path)  \n",
    "        \n",
    "        for nx, ny in get_neighbors(x, y):\n",
    "            if is_valid_move(maze, visited, nx, ny):\n",
    "                heapq.heappush(pq, (cost + 1, (nx, ny), path + [(nx, ny)]))\n",
    "    \n",
    "    return None"
   ]
  },
  {
   "cell_type": "code",
   "execution_count": 314,
   "metadata": {},
   "outputs": [],
   "source": [
    "def heuristic(a, b):\n",
    "    return abs(a[0] - b[0]) + abs(a[1] - b[1])\n",
    "\n",
    "def a_star(maze, start, goal):\n",
    "    pq = [(0, start, [start])]  \n",
    "    visited = set()\n",
    "    per_path = []\n",
    "    \n",
    "    while pq:\n",
    "        f_score, (x, y), path = heapq.heappop(pq)\n",
    "        if (x, y) == goal:\n",
    "            per_path.append((x,y))\n",
    "            print_maze(maze, per_path)\n",
    "            return path\n",
    "        \n",
    "        per_path.append((x,y))\n",
    "        visited.add((x, y))\n",
    "        print_maze(maze, per_path)  \n",
    "        \n",
    "        for nx, ny in get_neighbors(x, y):\n",
    "            if is_valid_move(maze, visited, nx, ny):\n",
    "                g_score = len(path) + 1\n",
    "                h_score = heuristic((nx, ny), goal)\n",
    "                f_score = g_score + h_score\n",
    "                heapq.heappush(pq, (f_score, (nx, ny), path + [(nx, ny)]))\n",
    "    \n",
    "    return None\n"
   ]
  },
  {
   "cell_type": "code",
   "execution_count": 315,
   "metadata": {},
   "outputs": [
    {
     "name": "stdout",
     "output_type": "stream",
     "text": [
      "🟨🟨🟨🟨🟨🟨🟨🟨🟨🟨🟨🟨\n",
      "🟨🟥🟩🟩🟩🟨🟦🟦🟦🟦🟦🟨\n",
      "🟨🟨🟨🟨🟩🟨🟨🟦🟨🟨🟦🟨\n",
      "🟨🟦🟦🟨🟩🟩🟩🟩🟨🟦🟨🟨\n",
      "🟨🟨🟦🟨🟨🟨🟨🟩🟨🟦🟦🟨\n",
      "🟨🟨🟦🟦🟦🟦🟦🟩🟩🟨🟨🟨\n",
      "🟨🟨🟨🟦🟨🟨🟨🟨🟩🟨🟦🟨\n",
      "🟨🟦🟦🟦🟦🟦🟦🟨🟩🟩🟩🟨\n",
      "🟨🟨🟨🟨🟨🟨🟨🟨🟨🟨🟩🟨\n",
      "🟨🟨🟩🟩🟩🟩🟩🟩🟩🟩🟩🟨\n",
      "🟨🟨🟨🟨🟨🟨🟨🟨🟩🟨🟥🟨\n",
      "🟨🟨🟨🟨🟨🟨🟨🟨🟨🟨🟨🟨\n",
      "DFS Path: [(0, 0), (0, 1), (0, 2), (0, 3), (1, 3), (2, 3), (2, 4), (2, 5), (2, 6), (3, 6), (4, 6), (4, 7), (5, 7), (6, 7), (6, 8), (6, 9), (7, 9), (8, 9), (9, 9)]\n"
     ]
    }
   ],
   "source": [
    "print(\"DFS Path:\", dfs([row[:] for row in maze], start, goal))"
   ]
  },
  {
   "cell_type": "code",
   "execution_count": 316,
   "metadata": {},
   "outputs": [
    {
     "name": "stdout",
     "output_type": "stream",
     "text": [
      "🟨🟨🟨🟨🟨🟨🟨🟨🟨🟨🟨🟨\n",
      "🟨🟥🟩🟩🟩🟨🟩🟩🟩🟩🟩🟨\n",
      "🟨🟨🟨🟨🟩🟨🟨🟩🟨🟨🟩🟨\n",
      "🟨🟩🟩🟨🟩🟩🟩🟩🟨🟦🟨🟨\n",
      "🟨🟨🟩🟨🟨🟨🟨🟩🟨🟦🟦🟨\n",
      "🟨🟨🟩🟩🟩🟩🟩🟩🟩🟨🟨🟨\n",
      "🟨🟨🟨🟩🟨🟨🟨🟨🟩🟨🟩🟨\n",
      "🟨🟩🟩🟩🟩🟩🟦🟨🟩🟩🟩🟨\n",
      "🟨🟨🟨🟨🟨🟨🟨🟨🟨🟨🟩🟨\n",
      "🟨🟨🟦🟦🟦🟦🟦🟦🟦🟦🟩🟨\n",
      "🟨🟨🟨🟨🟨🟨🟨🟨🟦🟨🟥🟨\n",
      "🟨🟨🟨🟨🟨🟨🟨🟨🟨🟨🟨🟨\n",
      "BFS Path: [(0, 0), (0, 1), (0, 2), (0, 3), (1, 3), (2, 3), (2, 4), (2, 5), (2, 6), (3, 6), (4, 6), (4, 7), (5, 7), (6, 7), (6, 8), (6, 9), (7, 9), (8, 9), (9, 9)]\n"
     ]
    }
   ],
   "source": [
    "print(\"BFS Path:\", bfs([row[:] for row in maze], start, goal))"
   ]
  },
  {
   "cell_type": "code",
   "execution_count": 317,
   "metadata": {},
   "outputs": [
    {
     "name": "stdout",
     "output_type": "stream",
     "text": [
      "🟨🟨🟨🟨🟨🟨🟨🟨🟨🟨🟨🟨\n",
      "🟨🟥🟩🟩🟩🟨🟩🟩🟩🟩🟩🟨\n",
      "🟨🟨🟨🟨🟩🟨🟨🟩🟨🟨🟩🟨\n",
      "🟨🟩🟩🟨🟩🟩🟩🟩🟨🟦🟨🟨\n",
      "🟨🟨🟩🟨🟨🟨🟨🟩🟨🟦🟦🟨\n",
      "🟨🟨🟩🟩🟩🟩🟩🟩🟩🟨🟨🟨\n",
      "🟨🟨🟨🟩🟨🟨🟨🟨🟩🟨🟩🟨\n",
      "🟨🟩🟩🟩🟩🟩🟦🟨🟩🟩🟩🟨\n",
      "🟨🟨🟨🟨🟨🟨🟨🟨🟨🟨🟩🟨\n",
      "🟨🟨🟦🟦🟦🟦🟦🟦🟦🟩🟩🟨\n",
      "🟨🟨🟨🟨🟨🟨🟨🟨🟦🟨🟥🟨\n",
      "🟨🟨🟨🟨🟨🟨🟨🟨🟨🟨🟨🟨\n",
      "Dijkstra Path: [(0, 0), (0, 1), (0, 2), (0, 3), (1, 3), (2, 3), (2, 4), (2, 5), (2, 6), (3, 6), (4, 6), (4, 7), (5, 7), (6, 7), (6, 8), (6, 9), (7, 9), (8, 9), (9, 9)]\n"
     ]
    }
   ],
   "source": [
    "print(\"Dijkstra Path:\", dijkstra([row[:] for row in maze], start, goal))"
   ]
  },
  {
   "cell_type": "code",
   "execution_count": 318,
   "metadata": {},
   "outputs": [
    {
     "name": "stdout",
     "output_type": "stream",
     "text": [
      "🟨🟨🟨🟨🟨🟨🟨🟨🟨🟨🟨🟨\n",
      "🟨🟥🟩🟩🟩🟨🟦🟦🟦🟦🟦🟨\n",
      "🟨🟨🟨🟨🟩🟨🟨🟦🟨🟨🟦🟨\n",
      "🟨🟦🟦🟨🟩🟩🟩🟩🟨🟦🟨🟨\n",
      "🟨🟨🟦🟨🟨🟨🟨🟩🟨🟦🟦🟨\n",
      "🟨🟨🟦🟦🟦🟦🟦🟩🟩🟨🟨🟨\n",
      "🟨🟨🟨🟦🟨🟨🟨🟨🟩🟨🟦🟨\n",
      "🟨🟦🟦🟦🟦🟦🟦🟨🟩🟩🟩🟨\n",
      "🟨🟨🟨🟨🟨🟨🟨🟨🟨🟨🟩🟨\n",
      "🟨🟨🟦🟦🟦🟦🟦🟦🟦🟦🟩🟨\n",
      "🟨🟨🟨🟨🟨🟨🟨🟨🟦🟨🟥🟨\n",
      "🟨🟨🟨🟨🟨🟨🟨🟨🟨🟨🟨🟨\n",
      "A* Path: [(0, 0), (0, 1), (0, 2), (0, 3), (1, 3), (2, 3), (2, 4), (2, 5), (2, 6), (3, 6), (4, 6), (4, 7), (5, 7), (6, 7), (6, 8), (6, 9), (7, 9), (8, 9), (9, 9)]\n"
     ]
    }
   ],
   "source": [
    "print(\"A* Path:\", a_star([row[:] for row in maze], start, goal))"
   ]
  }
 ],
 "metadata": {
  "kernelspec": {
   "display_name": "Python 3",
   "language": "python",
   "name": "python3"
  },
  "language_info": {
   "codemirror_mode": {
    "name": "ipython",
    "version": 3
   },
   "file_extension": ".py",
   "mimetype": "text/x-python",
   "name": "python",
   "nbconvert_exporter": "python",
   "pygments_lexer": "ipython3",
   "version": "3.12.5"
  }
 },
 "nbformat": 4,
 "nbformat_minor": 2
}
